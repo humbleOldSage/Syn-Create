{
 "cells": [
  {
   "cell_type": "code",
   "execution_count": 22,
   "id": "c27bbc42-7968-4b81-872d-283d77c5c5c1",
   "metadata": {},
   "outputs": [],
   "source": [
    "import os\n",
    "import glob\n",
    "import numpy as np\n",
    "from random import randint\n",
    "from matplotlib import pyplot as plt\n",
    "from PIL import Image,ImageDraw\n",
    "from shapely.geometry import Polygon\n",
    "from random import choice\n",
    "import PIL\n",
    "import random\n"
   ]
  },
  {
   "cell_type": "markdown",
   "id": "3bbd5b71-219b-49ab-933e-648c1ecd87e9",
   "metadata": {},
   "source": [
    "## Set all the paths required"
   ]
  },
  {
   "cell_type": "code",
   "execution_count": 23,
   "id": "2b5bc38c-7882-4dae-8907-645cfbad2f1f",
   "metadata": {},
   "outputs": [
    {
     "name": "stdout",
     "output_type": "stream",
     "text": [
      "28\n",
      "78\n"
     ]
    }
   ],
   "source": [
    "foregroundPath=\"/home/saty/Documents/Syn-Create/foregrounds/*\"\n",
    "saveAnnotation=\"/home/saty/Documents/Syn-Create/NewAnnotations/\"\n",
    "backgroundPath=\"/home/saty/Documents/Syn-Create/backgrounds/*\"\n",
    "\n",
    "backgrounds= glob.glob(backgroundPath)\n",
    "#background_engine =glob.glob(background_engine_path)\n",
    "#print(len(background_scenery), len(background_engine))\n",
    "#+ background_engine\n",
    "print(len(backgrounds))\n",
    "foreground= glob.glob(foregroundPath)\n",
    "print(len(foreground))"
   ]
  },
  {
   "cell_type": "markdown",
   "id": "15fc8ef1-e745-45c3-8a51-269fba2cb66f",
   "metadata": {},
   "source": [
    "## Set all the configurations"
   ]
  },
  {
   "cell_type": "code",
   "execution_count": 24,
   "id": "49ed8ac6-5c30-46fb-87de-791b640ec206",
   "metadata": {},
   "outputs": [],
   "source": [
    "## the foreground image is rotated between -20 to +20 degree randomyl\n",
    "foreground_rotate_lower=-20     \n",
    "foreground_rotate_upper=20\n",
    "## upper and lower define the maximum and minimum foregrounds allowed in a foreground\n",
    "upper=12\n",
    "lower=1\n",
    "\n",
    "relaxation=1\n",
    "\n",
    "background_width=1920\n",
    "background_height=1080"
   ]
  },
  {
   "cell_type": "markdown",
   "id": "2a5676e2-3f2f-43ac-b883-073b9f9e0598",
   "metadata": {},
   "source": [
    "## Modules"
   ]
  },
  {
   "cell_type": "code",
   "execution_count": 25,
   "id": "ffc7852b-fed3-49ab-8f6c-22fff7029600",
   "metadata": {},
   "outputs": [],
   "source": [
    "def get_random_coordinates(img,img_overlay_rgb):\n",
    "  \n",
    "    #No_point_range=max(img_overlay_rgb.size[1],img_overlay_rgb.size[0])\n",
    "    #x_min=No_point_range+1    \n",
    "    x_min=0\n",
    "    #x_max=img.size[0] - No_point_range\n",
    "    x_max=img.size[0]\n",
    "    #y_min=No_point_range+1\n",
    "    y_min=0\n",
    "    y_max=img.size[1]\n",
    "    #y_max=img.size[1] - No_point_range\n",
    "    x, y = randint(x_min,x_max), randint(y_min,y_max)\n",
    "    theta=randint(foreground_rotate_lower,foreground_rotate_upper)\n",
    "    return (x,y,theta)"
   ]
  },
  {
   "cell_type": "code",
   "execution_count": 26,
   "id": "ccfc8c9c-7da2-4f4f-a5ff-4a6f82e4fb74",
   "metadata": {},
   "outputs": [],
   "source": [
    "def overlay_coordinates(foreground,theta):\n",
    "    \"\"\"Overlay `img_overlay` onto `img` at (x, y) and blend using `alpha_mask`.\n",
    "\n",
    "    `alpha_mask` must have same HxW as `img_overlay` and values in range [0, 1].\n",
    "    \"\"\"       \n",
    "    foreground_rotate=foreground.rotate(theta,expand=1)   \n",
    "    w_new,h_new= foreground_rotate.size    \n",
    "    #draw = ImageDraw.Draw(background)\n",
    "    #draw.rectangle((x,y,x+w_new,y+h_new), fill=None, outline=\"yellow\",width=3)    \n",
    "    return w_new,h_new\n",
    "    "
   ]
  },
  {
   "cell_type": "code",
   "execution_count": 27,
   "id": "2619d8a3-0d4f-4915-a46f-ab87c3a99804",
   "metadata": {},
   "outputs": [],
   "source": [
    "def calculate_iou(box_1, box_2): \n",
    "    poly_1 = Polygon(box_1)\n",
    "    poly_2 = Polygon(box_2)\n",
    "    iou = poly_1.intersection(poly_2).area / poly_1.union(poly_2).area\n",
    "    if iou>0:\n",
    "        return 0 \n",
    "    else:\n",
    "        return 1\n",
    "    "
   ]
  },
  {
   "cell_type": "code",
   "execution_count": 28,
   "id": "2b495998-e9f6-4a39-978e-22c2d2d9d5db",
   "metadata": {},
   "outputs": [],
   "source": [
    "def readAndResizeBack(image_path,w_foreground,h_foreground):\n",
    "    img=Image.open(image_path)\n",
    "    new_img=img.resize((w_foreground,h_foreground))\n",
    "    return new_img"
   ]
  },
  {
   "cell_type": "code",
   "execution_count": 29,
   "id": "112aa492-f90b-48e9-a493-d5ccfc37504e",
   "metadata": {},
   "outputs": [],
   "source": [
    "def rotate_and_check_for_overlap_and_outside_of_image(x1_of_overlay,y1_of_overlay,theta1_of_overlay,foreground1,x2_of_overlay,y2_of_overlay,theta2_of_overlay,foreground2,filename,background):\n",
    "    w1_of_overlay,h1_of_overlay= overlay_coordinates(foreground1,theta1_of_overlay)\n",
    "    w2_of_overlay,h2_of_overlay= overlay_coordinates(foreground2,theta2_of_overlay)\n",
    "    \n",
    "    is_inside=check_if_rectangle_in_image(x1_of_overlay,y1_of_overlay,w1_of_overlay,h1_of_overlay,background,filename) #and check_if_rectangle_in_image(x2_of_overlay,y2_of_overlay,w1_of_overlay,h1_of_overlay,background,filename)\n",
    "    if(is_inside):\n",
    "        box1=[[x1_of_overlay,y1_of_overlay],[x1_of_overlay+w1_of_overlay,y1_of_overlay],[x1_of_overlay+w1_of_overlay,y1_of_overlay+h1_of_overlay], [x1_of_overlay,y1_of_overlay+h1_of_overlay]]\n",
    "        box2=[[x2_of_overlay,y2_of_overlay],[x2_of_overlay+w2_of_overlay,y2_of_overlay],[x2_of_overlay+w2_of_overlay,y2_of_overlay+h2_of_overlay], [x2_of_overlay,y2_of_overlay+h2_of_overlay]]\n",
    "        if not calculate_iou(box1,box2):\n",
    "           # print(\"OVERLAP\")\n",
    "            return 0\n",
    "        else:\n",
    "            return 1\n",
    "    else:\n",
    "     #   print(\"OUTSIDE OF RECTANGLE\")\n",
    "        return is_inside"
   ]
  },
  {
   "cell_type": "code",
   "execution_count": 30,
   "id": "8d601b16-eb72-4b40-9d1b-f8ce523d25f7",
   "metadata": {},
   "outputs": [],
   "source": [
    "###100% inside variant #####\n",
    "\n",
    "def check_if_rectangle_in_image(x,y,w,h,img,file_name):\n",
    "    \n",
    "    if x<0 or x >img.size[0] or x+w<0 or x+w> img.size[0] :\n",
    "        #print(\"OUTSIDE\",file_name)\n",
    "        return 0\n",
    "    if y<0 or y >img.size[1] or y+h<0 or y+h> img.size[1] :\n",
    "        #print(\"OUTSIDE\",file_name)\n",
    "        return 0\n",
    "  \n",
    "    return 1\n",
    "        \n",
    "  \n",
    "    \n",
    "    "
   ]
  },
  {
   "cell_type": "code",
   "execution_count": 31,
   "id": "d69c60b8-1582-4289-aff8-f9dd8cf6a1fe",
   "metadata": {},
   "outputs": [
    {
     "data": {
      "text/plain": [
       "'\\ndef check_if_rectangle_in_image(x,y,w,h,img,file_name):\\n    \\n    if x<0 or x >img.size[0] or x+w<0 or x+w> img.size[0] :\\n        if (x >img.size[0] or x+w<0):\\n            return 0\\n        else:\\n            total_area=w*h\\n            \\n            if(x<0):\\n                w=w+x\\n            else:\\n                w= img.size[0]-x\\n            \\n            if not(y>=0 and y+h<=img.size[1]):\\n                if \\n            else:\\n                w= img.size[0]-x\\n                \\n                \\n            area_inside= w*h\\n        #print(\"OUTSIDE\",file_name)\\n        return 0\\n    if y<0 or y >img.size[1] or y+h<0 or y+h> img.size[1] :\\n        #print(\"OUTSIDE\",file_name)\\n        return 0\\n    \\n    return 1\\n'"
      ]
     },
     "execution_count": 31,
     "metadata": {},
     "output_type": "execute_result"
    }
   ],
   "source": [
    "#####50% inside variant############ UNDER CONSTRUCTION \n",
    "'''\n",
    "def check_if_rectangle_in_image(x,y,w,h,img,file_name):\n",
    "    \n",
    "    if x<0 or x >img.size[0] or x+w<0 or x+w> img.size[0] :\n",
    "        if (x >img.size[0] or x+w<0):\n",
    "            return 0\n",
    "        else:\n",
    "            total_area=w*h\n",
    "            \n",
    "            if(x<0):\n",
    "                w=w+x\n",
    "            else:\n",
    "                w= img.size[0]-x\n",
    "            \n",
    "            if not(y>=0 and y+h<=img.size[1]):\n",
    "                if \n",
    "            else:\n",
    "                w= img.size[0]-x\n",
    "                \n",
    "                \n",
    "            area_inside= w*h\n",
    "        #print(\"OUTSIDE\",file_name)\n",
    "        return 0\n",
    "    if y<0 or y >img.size[1] or y+h<0 or y+h> img.size[1] :\n",
    "        #print(\"OUTSIDE\",file_name)\n",
    "        return 0\n",
    "    \n",
    "    return 1\n",
    "'''        \n",
    "    \n",
    "    \n",
    "    "
   ]
  },
  {
   "cell_type": "code",
   "execution_count": 32,
   "id": "b769606b-f70b-4946-900d-15470ee34968",
   "metadata": {},
   "outputs": [],
   "source": [
    "def overlay_image_alpha(foreground1,background, x1, y1,theta1,file_name):\n",
    "    \"\"\"Overlay `img_overlay` onto `img` at (x, y) and blend using `alpha_mask`.\n",
    "\n",
    "    `alpha_mask` must have same HxW as `img_overlay` and values in range [0, 1].\n",
    "    \"\"\"\n",
    "        \n",
    "    foreground1_rotate=foreground1.rotate(theta1,expand=1)   \n",
    "    w1_new,h1_new= foreground1_rotate.size    \n",
    "    #flag2=check_if_rectangle_in_image(x2,y2,w2_new,h2_new,background,file_name)\n",
    "    #draw = ImageDraw.Draw(background)\n",
    "    #draw.rectangle((x1,y1,x1+w1_new,y1+h1_new), fill=None, outline=\"yellow\",width=3)   \n",
    "    background.paste(foreground1_rotate,(x1,y1),foreground1_rotate)\n",
    "    write_the_annotations(background.size[0],background.size[1],x1,y1,w1_new,h1_new,file_name)\n",
    "    #    background.paste(foreground2_rotate,(x2,y2),foreground2_rotate)       \n",
    "    #draw = ImageDraw.Draw(background)\n",
    "    #draw.rectangle((x2,y2,x2+w2_new,y2+h2_new), fill=None, outline=\"yellow\",width=3)    \n",
    "   #     write_the_annotations(background.size[0],background.size[1],x2,y2,w2_new,h2_new,file_name)\n",
    "    # Blend overlay within the determined ranges\n",
    "    return background,1\n"
   ]
  },
  {
   "cell_type": "code",
   "execution_count": 33,
   "id": "ec8d80d7-10d1-44bd-9391-a52543e8df5d",
   "metadata": {},
   "outputs": [],
   "source": [
    "def  write_the_annotations(width,height,x,y,w,h,filename):\n",
    "    file_path=saveAnnotation +filename\n",
    "    content=[]\n",
    "    content.extend( list(map(str,[0,float((x+float(w)/2.0)/width),float(float((y+h/2))/height),float(w/width),float(h/height)])))\n",
    "    writer = open(file_path, 'a+')\n",
    "    content=\" \".join(content) + \"\\n\"\n",
    "  \n",
    "    writer.writelines(content)\n",
    "    writer.close()"
   ]
  },
  {
   "cell_type": "code",
   "execution_count": 34,
   "id": "8102de0f-a1f7-4673-bc71-6f462d2c474b",
   "metadata": {},
   "outputs": [],
   "source": [
    "def match_f1_f2_maintain_aspect(foreground1,foreground2):\n",
    "    #print(foreground1.size,foreground2.size)\n",
    "    area1=foreground1.size[0]*foreground1.size[1]\n",
    "    area2=foreground2.size[0]*foreground2.size[1]\n",
    "      \n",
    "    if(area1>area2):\n",
    "        r=area1/area2\n",
    "    else:\n",
    "        r=area2/area1\n",
    "   \n",
    "    \n",
    "    if r>6:\n",
    "        aspect1=foreground1.size[0]/foreground1.size[1]\n",
    "        aspect2=foreground2.size[0]/foreground2.size[1]\n",
    "        \n",
    "        if(area1>area2):   #meaning fore2 is to be reshaped \n",
    "            if(foreground1.size[0]>foreground1.size[1]):   #change fore2 s width based on fore1 width\n",
    "                foreground2=foreground2.resize((int(foreground1.size[0]/2),int(foreground1.size[0]/(2 *aspect2))))\n",
    "            else:\n",
    "                foreground2=foreground2.resize((int(foreground1.size[1]/(2* aspect2)),int(foreground1.size[1]/2)))\n",
    "                \n",
    "        else:\n",
    "            if(foreground2.size[0]>foreground2.size[1]):   #change fore1 s width based on fore2 width\n",
    "                foreground1=foreground1.resize((int(foreground2.size[0]/2),int(foreground2.size[0]/(2* aspect1 ))))\n",
    "            else:\n",
    "                foreground1=foreground1.resize((int(foreground2.size[1]/(2* aspect1)),int(foreground2.size[1]/2)))\n",
    "   # print(foreground1.size,foreground2.size)                \n",
    "    return foreground1,foreground2"
   ]
  },
  {
   "cell_type": "code",
   "execution_count": null,
   "id": "03e4122f-107b-4417-9fae-b937b2f79156",
   "metadata": {},
   "outputs": [],
   "source": []
  },
  {
   "cell_type": "code",
   "execution_count": 35,
   "id": "8cc9d117-c7e2-4321-8110-980e69c6905a",
   "metadata": {},
   "outputs": [
    {
     "name": "stdout",
     "output_type": "stream",
     "text": [
      "78\n",
      "0\n",
      "1\n",
      "2\n",
      "3\n",
      "4\n",
      "5\n",
      "6\n",
      "7\n",
      "8\n",
      "9\n",
      "10\n",
      "11\n",
      "12\n",
      "13\n",
      "14\n",
      "15\n",
      "16\n",
      "17\n",
      "18\n",
      "19\n",
      "20\n",
      "21\n",
      "22\n",
      "23\n",
      "24\n",
      "25\n",
      "26\n",
      "27\n",
      "28\n",
      "29\n",
      "30\n",
      "31\n",
      "32\n",
      "33\n",
      "34\n",
      "35\n",
      "36\n",
      "37\n",
      "38\n",
      "39\n",
      "40\n",
      "41\n",
      "42\n",
      "43\n",
      "44\n",
      "45\n",
      "46\n",
      "47\n",
      "48\n",
      "49\n",
      "50\n",
      "51\n",
      "52\n",
      "53\n",
      "54\n",
      "55\n",
      "56\n",
      "57\n",
      "58\n",
      "59\n",
      "60\n",
      "61\n",
      "62\n",
      "63\n",
      "64\n",
      "65\n",
      "66\n",
      "67\n",
      "68\n",
      "69\n",
      "70\n",
      "71\n",
      "72\n",
      "73\n",
      "74\n",
      "75\n",
      "76\n",
      "77\n",
      "78\n",
      "79\n",
      "80\n",
      "81\n",
      "82\n",
      "83\n",
      "84\n",
      "85\n",
      "86\n",
      "87\n",
      "88\n",
      "89\n",
      "90\n",
      "91\n",
      "92\n",
      "93\n",
      "94\n",
      "95\n",
      "96\n",
      "97\n",
      "98\n"
     ]
    },
    {
     "ename": "KeyboardInterrupt",
     "evalue": "",
     "output_type": "error",
     "traceback": [
      "\u001b[0;31m---------------------------------------------------------------------------\u001b[0m",
      "\u001b[0;31mKeyboardInterrupt\u001b[0m                         Traceback (most recent call last)",
      "\u001b[0;32m<ipython-input-35-bd201d61383d>\u001b[0m in \u001b[0;36m<module>\u001b[0;34m\u001b[0m\n\u001b[1;32m     29\u001b[0m                 \u001b[0mw_new\u001b[0m\u001b[0;34m=\u001b[0m\u001b[0mint\u001b[0m\u001b[0;34m(\u001b[0m\u001b[0mh_new\u001b[0m\u001b[0;34m*\u001b[0m\u001b[0maspect_\u001b[0m\u001b[0;34m)\u001b[0m\u001b[0;34m\u001b[0m\u001b[0m\n\u001b[1;32m     30\u001b[0m \u001b[0;34m\u001b[0m\u001b[0m\n\u001b[0;32m---> 31\u001b[0;31m             \u001b[0mimg\u001b[0m\u001b[0;34m=\u001b[0m\u001b[0mImg\u001b[0m\u001b[0;34m.\u001b[0m\u001b[0mresize\u001b[0m\u001b[0;34m(\u001b[0m\u001b[0;34m(\u001b[0m\u001b[0mw_new\u001b[0m\u001b[0;34m,\u001b[0m\u001b[0mh_new\u001b[0m\u001b[0;34m)\u001b[0m\u001b[0;34m)\u001b[0m\u001b[0;34m\u001b[0m\u001b[0m\n\u001b[0m\u001b[1;32m     32\u001b[0m \u001b[0;34m\u001b[0m\u001b[0m\n\u001b[1;32m     33\u001b[0m             \u001b[0mforeground\u001b[0m\u001b[0;34m.\u001b[0m\u001b[0mappend\u001b[0m\u001b[0;34m(\u001b[0m\u001b[0mimg\u001b[0m\u001b[0;34m)\u001b[0m\u001b[0;34m\u001b[0m\u001b[0m\n",
      "\u001b[0;32m~/.pyenv/versions/env3.6/lib/python3.6/site-packages/PIL/Image.py\u001b[0m in \u001b[0;36mresize\u001b[0;34m(self, size, resample, box, reducing_gap)\u001b[0m\n\u001b[1;32m   1983\u001b[0m \u001b[0;34m\u001b[0m\u001b[0m\n\u001b[1;32m   1984\u001b[0m         \u001b[0;32mif\u001b[0m \u001b[0mself\u001b[0m\u001b[0;34m.\u001b[0m\u001b[0mmode\u001b[0m \u001b[0;32min\u001b[0m \u001b[0;34m[\u001b[0m\u001b[0;34m\"LA\"\u001b[0m\u001b[0;34m,\u001b[0m \u001b[0;34m\"RGBA\"\u001b[0m\u001b[0;34m]\u001b[0m \u001b[0;32mand\u001b[0m \u001b[0mresample\u001b[0m \u001b[0;34m!=\u001b[0m \u001b[0mNEAREST\u001b[0m\u001b[0;34m:\u001b[0m\u001b[0;34m\u001b[0m\u001b[0m\n\u001b[0;32m-> 1985\u001b[0;31m             \u001b[0mim\u001b[0m \u001b[0;34m=\u001b[0m \u001b[0mself\u001b[0m\u001b[0;34m.\u001b[0m\u001b[0mconvert\u001b[0m\u001b[0;34m(\u001b[0m\u001b[0;34m{\u001b[0m\u001b[0;34m\"LA\"\u001b[0m\u001b[0;34m:\u001b[0m \u001b[0;34m\"La\"\u001b[0m\u001b[0;34m,\u001b[0m \u001b[0;34m\"RGBA\"\u001b[0m\u001b[0;34m:\u001b[0m \u001b[0;34m\"RGBa\"\u001b[0m\u001b[0;34m}\u001b[0m\u001b[0;34m[\u001b[0m\u001b[0mself\u001b[0m\u001b[0;34m.\u001b[0m\u001b[0mmode\u001b[0m\u001b[0;34m]\u001b[0m\u001b[0;34m)\u001b[0m\u001b[0;34m\u001b[0m\u001b[0m\n\u001b[0m\u001b[1;32m   1986\u001b[0m             \u001b[0mim\u001b[0m \u001b[0;34m=\u001b[0m \u001b[0mim\u001b[0m\u001b[0;34m.\u001b[0m\u001b[0mresize\u001b[0m\u001b[0;34m(\u001b[0m\u001b[0msize\u001b[0m\u001b[0;34m,\u001b[0m \u001b[0mresample\u001b[0m\u001b[0;34m,\u001b[0m \u001b[0mbox\u001b[0m\u001b[0;34m)\u001b[0m\u001b[0;34m\u001b[0m\u001b[0m\n\u001b[1;32m   1987\u001b[0m             \u001b[0;32mreturn\u001b[0m \u001b[0mim\u001b[0m\u001b[0;34m.\u001b[0m\u001b[0mconvert\u001b[0m\u001b[0;34m(\u001b[0m\u001b[0mself\u001b[0m\u001b[0;34m.\u001b[0m\u001b[0mmode\u001b[0m\u001b[0;34m)\u001b[0m\u001b[0;34m\u001b[0m\u001b[0m\n",
      "\u001b[0;32m~/.pyenv/versions/env3.6/lib/python3.6/site-packages/PIL/Image.py\u001b[0m in \u001b[0;36mconvert\u001b[0;34m(self, mode, matrix, dither, palette, colors)\u001b[0m\n\u001b[1;32m   1044\u001b[0m \u001b[0;34m\u001b[0m\u001b[0m\n\u001b[1;32m   1045\u001b[0m         \u001b[0;32mtry\u001b[0m\u001b[0;34m:\u001b[0m\u001b[0;34m\u001b[0m\u001b[0m\n\u001b[0;32m-> 1046\u001b[0;31m             \u001b[0mim\u001b[0m \u001b[0;34m=\u001b[0m \u001b[0mself\u001b[0m\u001b[0;34m.\u001b[0m\u001b[0mim\u001b[0m\u001b[0;34m.\u001b[0m\u001b[0mconvert\u001b[0m\u001b[0;34m(\u001b[0m\u001b[0mmode\u001b[0m\u001b[0;34m,\u001b[0m \u001b[0mdither\u001b[0m\u001b[0;34m)\u001b[0m\u001b[0;34m\u001b[0m\u001b[0m\n\u001b[0m\u001b[1;32m   1047\u001b[0m         \u001b[0;32mexcept\u001b[0m \u001b[0mValueError\u001b[0m\u001b[0;34m:\u001b[0m\u001b[0;34m\u001b[0m\u001b[0m\n\u001b[1;32m   1048\u001b[0m             \u001b[0;32mtry\u001b[0m\u001b[0;34m:\u001b[0m\u001b[0;34m\u001b[0m\u001b[0m\n",
      "\u001b[0;31mKeyboardInterrupt\u001b[0m: "
     ]
    }
   ],
   "source": [
    "count=0\n",
    "filess=foreground\n",
    "print(len(filess))\n",
    "for bg_path in backgrounds:\n",
    "    files= random.sample(filess,len(filess))\n",
    "    ratio_not_include=[]\n",
    "    no_of_files=len(files)\n",
    "    while(len(files)>0):\n",
    "        background=readAndResizeBack(bg_path,background_width,background_height)    \n",
    "        foreground=[]\n",
    "        if len(files)>upper:\n",
    "            no_of_files= random.randrange(1,upper+1) # get random index            \n",
    "        else:\n",
    "            no_of_files=len(files)\n",
    "       # print(\"no_of_files\",no_of_files)\n",
    "        files_for_current_background=files[-no_of_files:]\n",
    "        files=files[:-no_of_files]\n",
    "       # print(\"CURRENT FILES:\",len(files_for_current_background))\n",
    "        for i in files_for_current_background:\n",
    "            Img=Image.open(i).convert('RGBA')\n",
    "            w_,h_,=Img.size\n",
    "            aspect_=w_/h_\n",
    "            if(w_>h_):\n",
    "                w_new=int(background_width/(no_of_files+relaxation))\n",
    "                h_new=int(w_new/aspect_)\n",
    "\n",
    "            else:\n",
    "                h_new=int(background_height/(no_of_files+relaxation))\n",
    "                w_new=int(h_new*aspect_)\n",
    "            \n",
    "            img=Img.resize((w_new,h_new))\n",
    "            \n",
    "            foreground.append(img)\n",
    "     \n",
    "        ########################## PREPARE FOR OVERLAY ############################################\n",
    "        data_of_point=[]\n",
    "        #print(len(foreground))    \n",
    "        \n",
    "        for i in range(len(foreground)):\n",
    "            #print(i)\n",
    "            overlap_flag=1\n",
    "            while overlap_flag:\n",
    "                x_of_overlay,y_of_overlay,theta_of_overlay= get_random_coordinates(background,foreground[i])\n",
    "                \n",
    "                if(len(data_of_point)==0):\n",
    "                    w_of_overlay,h_of_overlay= overlay_coordinates(foreground[i],theta_of_overlay)\n",
    "                    is_inside=check_if_rectangle_in_image(x_of_overlay,y_of_overlay,w_of_overlay,h_of_overlay,background,str(count)+'.txt') \n",
    "                    if(not is_inside):\n",
    "                        overlap_flag=0               \n",
    "        \n",
    "                    \n",
    "                #print(\"COORDINATES b4:\",x_of_overlay,y_of_overlay,theta_of_overlay)\n",
    "                #x2_of_overlay,y2_of_overlay,theta2_of_overlay= get_random_coordinates(background,foreground2)\n",
    "              #  print(i,len(foreground),len(data_of_point),foreground[i].size)\n",
    "                for j in range(len(data_of_point)):\n",
    "                   # print(\"b4\",i,j,len(foreground),len(data_of_point),overlap_flag)\n",
    "                    overlap_flag= rotate_and_check_for_overlap_and_outside_of_image(x_of_overlay,y_of_overlay,theta_of_overlay,foreground[i],data_of_point[j][0],data_of_point[j][1],data_of_point[j][2],foreground[j],str(count)+\".txt\",background)\n",
    "                   # print(\"atr\",i,j,len(foreground),len(data_of_point))#overlap_flag,x_of_overlay,y_of_overlay,theta_of_overlay)\n",
    "                    if (overlap_flag==0):\n",
    "                        break\n",
    "                if(overlap_flag==1):\n",
    "                    data_of_point.append((x_of_overlay,y_of_overlay,theta_of_overlay))\n",
    "                    overlap_flag=0\n",
    "                else:\n",
    "                    overlap_flag=1\n",
    "                    \n",
    "           # if (len(data_of_point)==len(foreground)):\n",
    "            #    break\n",
    "            \n",
    "        #x_of_overlay,y_of_overlay,theta_of_overlay= 0,0, 15\n",
    "        print(count)\n",
    "        \n",
    "        img_result=background\n",
    "        for i in range(len(data_of_point)):\n",
    "            background,success=overlay_image_alpha(foreground[i],background,data_of_point[i][0],data_of_point[i][1],data_of_point[i][2],str(count)+\".txt\")\n",
    "        background.save(\"/home/saty/Documents/Syn-Create/syndata/\"+str(count)+\".jpg\")\n",
    "        #plt.imshow(img_result)\n",
    "        #plt.show()\n",
    "        count+=1\n",
    "\n",
    "    ########################## FIND COUNTOURS OF FOREG\"ROUND AFTER OVERLAY AND SAVE ################\n",
    "\n",
    "        \n"
   ]
  },
  {
   "cell_type": "code",
   "execution_count": 20,
   "id": "13bd536b-e5cd-42db-a193-b5d3ed4e00c2",
   "metadata": {},
   "outputs": [],
   "source": [
    "a=[]\n",
    "b=(1,2,3)\n"
   ]
  },
  {
   "cell_type": "code",
   "execution_count": 63,
   "id": "204c1528-75dd-48ed-819d-e29b9e126f77",
   "metadata": {},
   "outputs": [
    {
     "ename": "TypeError",
     "evalue": "append() takes exactly one argument (3 given)",
     "output_type": "error",
     "traceback": [
      "\u001b[0;31m---------------------------------------------------------------------------\u001b[0m",
      "\u001b[0;31mTypeError\u001b[0m                                 Traceback (most recent call last)",
      "\u001b[0;32m/tmp/ipykernel_4957/3648447169.py\u001b[0m in \u001b[0;36m<module>\u001b[0;34m\u001b[0m\n\u001b[0;32m----> 1\u001b[0;31m \u001b[0ma\u001b[0m\u001b[0;34m.\u001b[0m\u001b[0mappend\u001b[0m\u001b[0;34m(\u001b[0m\u001b[0;36m1\u001b[0m\u001b[0;34m,\u001b[0m\u001b[0;36m2\u001b[0m\u001b[0;34m,\u001b[0m\u001b[0;36m3\u001b[0m\u001b[0;34m)\u001b[0m\u001b[0;34m\u001b[0m\u001b[0;34m\u001b[0m\u001b[0m\n\u001b[0m",
      "\u001b[0;31mTypeError\u001b[0m: append() takes exactly one argument (3 given)"
     ]
    }
   ],
   "source": [
    "a.append(1,2,3)"
   ]
  },
  {
   "cell_type": "code",
   "execution_count": 61,
   "id": "3e58b0da-e26f-4973-bca4-238c675823b9",
   "metadata": {},
   "outputs": [
    {
     "data": {
      "text/plain": [
       "[(1, 2, 3)]"
      ]
     },
     "execution_count": 61,
     "metadata": {},
     "output_type": "execute_result"
    }
   ],
   "source": [
    "a"
   ]
  },
  {
   "cell_type": "code",
   "execution_count": 62,
   "id": "78ae437b-dc6f-48e9-86d2-3dbacdffa84b",
   "metadata": {},
   "outputs": [
    {
     "data": {
      "text/plain": [
       "1"
      ]
     },
     "execution_count": 62,
     "metadata": {},
     "output_type": "execute_result"
    }
   ],
   "source": [
    "len(a)"
   ]
  },
  {
   "cell_type": "code",
   "execution_count": null,
   "id": "adebd7c5-3cb9-4041-9496-6583413ad349",
   "metadata": {},
   "outputs": [],
   "source": []
  }
 ],
 "metadata": {
  "kernelspec": {
   "display_name": "env3.6",
   "language": "python",
   "name": "env3.6"
  },
  "language_info": {
   "codemirror_mode": {
    "name": "ipython",
    "version": 3
   },
   "file_extension": ".py",
   "mimetype": "text/x-python",
   "name": "python",
   "nbconvert_exporter": "python",
   "pygments_lexer": "ipython3",
   "version": "3.6.3"
  }
 },
 "nbformat": 4,
 "nbformat_minor": 5
}
